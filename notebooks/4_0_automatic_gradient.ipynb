{
 "cells": [
  {
   "cell_type": "markdown",
   "metadata": {},
   "source": [
    "# quick illustration of automatic differentiation."
   ]
  },
  {
   "cell_type": "code",
   "execution_count": 11,
   "metadata": {},
   "outputs": [
    {
     "name": "stdout",
     "output_type": "stream",
     "text": [
      "('Derivative of y = a * x + 10.0 with respect to x:', array([[ 2.,  5.]], dtype=float32))\n"
     ]
    }
   ],
   "source": [
    "import tensorflow as tf\n",
    "\n",
    "g = tf.Graph()\n",
    "with g.as_default(), tf.Session() as sess:\n",
    "    a = tf.constant([[2.0, 5.0]])\n",
    "    x = tf.Variable([[0.0, 0.0]])\n",
    "    y = a * x + 10.0\n",
    "    y_grad = tf.gradients([y], [x])[0]  # inputs/outputs lists\n",
    "    sess.run(tf.global_variables_initializer())\n",
    "    print(\"Derivative of y = a * x + 10.0 with respect to x:\", sess.run(y_grad))"
   ]
  }
 ],
 "metadata": {
  "kernelspec": {
   "display_name": "Python 2",
   "language": "python",
   "name": "python2"
  },
  "language_info": {
   "codemirror_mode": {
    "name": "ipython",
    "version": 2
   },
   "file_extension": ".py",
   "mimetype": "text/x-python",
   "name": "python",
   "nbconvert_exporter": "python",
   "pygments_lexer": "ipython2",
   "version": "2.7.12"
  }
 },
 "nbformat": 4,
 "nbformat_minor": 2
}
