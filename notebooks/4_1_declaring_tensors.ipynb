{
 "cells": [
  {
   "cell_type": "code",
   "execution_count": 6,
   "metadata": {
    "collapsed": true
   },
   "outputs": [],
   "source": [
    "from __future__ import print_function\n",
    "import tensorflow as tf\n",
    "from tensorflow.python.framework import ops\n",
    "ops.reset_default_graph()"
   ]
  },
  {
   "cell_type": "code",
   "execution_count": 7,
   "metadata": {
    "collapsed": true
   },
   "outputs": [],
   "source": [
    "# Get graph handle\n",
    "sess = tf.Session()"
   ]
  },
  {
   "cell_type": "markdown",
   "metadata": {},
   "source": [
    "### Introduce tensors in tf"
   ]
  },
  {
   "cell_type": "code",
   "execution_count": 8,
   "metadata": {},
   "outputs": [
    {
     "name": "stdout",
     "output_type": "stream",
     "text": [
      "Tensor(\"zeros:0\", shape=(1, 20), dtype=float32)\n"
     ]
    }
   ],
   "source": [
    "my_tensor = tf.zeros([1,20])\n",
    "print(my_tensor)"
   ]
  },
  {
   "cell_type": "code",
   "execution_count": 9,
   "metadata": {},
   "outputs": [
    {
     "name": "stdout",
     "output_type": "stream",
     "text": [
      "<tf.Variable 'Variable:0' shape=(1, 20) dtype=float32_ref>\n"
     ]
    }
   ],
   "source": [
    "# Declare a variable\n",
    "my_var = tf.Variable(tf.zeros([1,20]))\n",
    "print(my_var)"
   ]
  },
  {
   "cell_type": "code",
   "execution_count": 11,
   "metadata": {
    "collapsed": true
   },
   "outputs": [],
   "source": [
    "# Different kinds of variables\n",
    "row_dim = 2\n",
    "col_dim = 3 "
   ]
  },
  {
   "cell_type": "code",
   "execution_count": 12,
   "metadata": {},
   "outputs": [
    {
     "name": "stdout",
     "output_type": "stream",
     "text": [
      "<tf.Variable 'Variable_1:0' shape=(2, 3) dtype=float32_ref>\n"
     ]
    }
   ],
   "source": [
    "# Zero initialized variable\n",
    "zero_var = tf.Variable(tf.zeros([row_dim, col_dim]))\n",
    "print(zero_var)"
   ]
  },
  {
   "cell_type": "code",
   "execution_count": 13,
   "metadata": {},
   "outputs": [
    {
     "name": "stdout",
     "output_type": "stream",
     "text": [
      "<tf.Variable 'Variable_2:0' shape=(2, 3) dtype=float32_ref>\n"
     ]
    }
   ],
   "source": [
    "# One initialized variable\n",
    "ones_var = tf.Variable(tf.ones([row_dim, col_dim]))\n",
    "print(ones_var)"
   ]
  },
  {
   "cell_type": "code",
   "execution_count": 30,
   "metadata": {},
   "outputs": [
    {
     "name": "stdout",
     "output_type": "stream",
     "text": [
      "[[ 0.  0.  0.]\n",
      " [ 0.  0.  0.]]\n",
      "[[ 1.  1.  1.]\n",
      " [ 1.  1.  1.]]\n",
      "[[ 0.  0.  0.]\n",
      " [ 0.  0.  0.]]\n",
      "[[ 1.  1.  1.]\n",
      " [ 1.  1.  1.]]\n"
     ]
    }
   ],
   "source": [
    "# shaped like other variable\n",
    "sess.run(zero_var.initializer)\n",
    "sess.run(ones_var.initializer)\n",
    "zero_similar = tf.Variable(tf.zeros_like(zero_var))\n",
    "ones_similar = tf.Variable(tf.ones_like(ones_var))\n",
    "\n",
    "sess.run(ones_similar.initializer)\n",
    "sess.run(zero_similar.initializer)\n",
    "\n",
    "# print all variables\n",
    "for var in [zero_var, ones_var, zero_similar, ones_similar]:\n",
    "    print(sess.run(var))"
   ]
  },
  {
   "cell_type": "code",
   "execution_count": 31,
   "metadata": {
    "collapsed": true
   },
   "outputs": [],
   "source": [
    "# Fill shape with a constant\n",
    "fill_var = tf.Variable(tf.fill([row_dim, col_dim], -1))"
   ]
  },
  {
   "cell_type": "code",
   "execution_count": 32,
   "metadata": {
    "collapsed": true
   },
   "outputs": [],
   "source": [
    "# Create a variable from a constant\n",
    "const_var = tf.Variable(tf.constant([8, 6, 7, 5, 3, 0, 9]))"
   ]
  },
  {
   "cell_type": "code",
   "execution_count": 33,
   "metadata": {
    "collapsed": true
   },
   "outputs": [],
   "source": [
    "# This can also be used to fill an array:\n",
    "const_fill_var = tf.Variable(tf.constant(-1, shape=[row_dim, col_dim]))"
   ]
  },
  {
   "cell_type": "code",
   "execution_count": 34,
   "metadata": {
    "collapsed": true
   },
   "outputs": [],
   "source": [
    "# Sequence generation\n",
    "linear_var = tf.Variable(tf.linspace(start=0.0, stop=1.0, num=3)) # Generates [0.0, 0.5, 1.0] includes the end\n",
    "\n",
    "sequence_var = tf.Variable(tf.range(start=6, limit=15, delta=3)) # Generates [6, 9, 12] doesn't include the end"
   ]
  },
  {
   "cell_type": "markdown",
   "metadata": {},
   "source": [
    "### Random Numbers"
   ]
  },
  {
   "cell_type": "code",
   "execution_count": 37,
   "metadata": {},
   "outputs": [
    {
     "name": "stdout",
     "output_type": "stream",
     "text": [
      "[[ 0.33355048 -0.08728082  0.70345742]\n",
      " [ 0.86420143  1.39855552  0.71620607]]\n"
     ]
    }
   ],
   "source": [
    "# Random Normal\n",
    "rnorm_var = tf.random_normal([row_dim, col_dim], mean=0.0, stddev=1.0)\n",
    "print(sess.run(rnorm_var))"
   ]
  },
  {
   "cell_type": "code",
   "execution_count": null,
   "metadata": {
    "collapsed": true
   },
   "outputs": [],
   "source": [
    "# Initialize operation\n",
    "initialize_op = tf.initialize_all_variables()"
   ]
  },
  {
   "cell_type": "code",
   "execution_count": null,
   "metadata": {
    "collapsed": true
   },
   "outputs": [],
   "source": [
    "# Add summaries to tensorboard\n",
    "merged = tf.merge_all_summaries()"
   ]
  },
  {
   "cell_type": "code",
   "execution_count": null,
   "metadata": {
    "collapsed": true
   },
   "outputs": [],
   "source": [
    "# Initialize graph writer:\n",
    "writer = tf.train.SummaryWriter(\"/tmp/tflog\", sess.graph_def)"
   ]
  },
  {
   "cell_type": "code",
   "execution_count": null,
   "metadata": {
    "collapsed": true
   },
   "outputs": [],
   "source": [
    "# Run initialization of variable\n",
    "sess.run(initialize_op)"
   ]
  },
  {
   "cell_type": "markdown",
   "metadata": {},
   "source": [
    "Additional Features"
   ]
  },
  {
   "cell_type": "code",
   "execution_count": null,
   "metadata": {
    "collapsed": true
   },
   "outputs": [],
   "source": [
    "# 2-D tensor `a`\n",
    "a = tf.constant([1, 2, 3, 4, 5, 6], shape=[2, 3]) => [[1. 2. 3.]\n",
    "                                                      [4. 5. 6.]]\n",
    "# 2-D tensor `b`\n",
    "b = tf.constant([7, 8, 9, 10, 11, 12], shape=[3, 2]) => [[7. 8.]\n",
    "                                                         [9. 10.]\n",
    "                                                         [11. 12.]]\n",
    "c = tf.matmul(a, b) => [[58 64]\n",
    "                        [139 154]]\n",
    "\n",
    "# 3-D tensor `a`\n",
    "a = tf.constant(np.arange(1, 13, dtype=np.int32),\n",
    "                shape=[2, 2, 3])                  => [[[ 1.  2.  3.]\n",
    "                                                       [ 4.  5.  6.]],\n",
    "                                                      [[ 7.  8.  9.]\n",
    "                                                       [10. 11. 12.]]]\n",
    "\n",
    "# 3-D tensor `b`\n",
    "b = tf.constant(np.arange(13, 25, dtype=np.int32),\n",
    "                shape=[2, 3, 2])                   => [[[13. 14.]\n",
    "                                                        [15. 16.]\n",
    "                                                        [17. 18.]],\n",
    "                                                       [[19. 20.]\n",
    "                                                        [21. 22.]\n",
    "                                                        [23. 24.]]]\n",
    "c = tf.matmul(a, b) => [[[ 94 100]\n",
    "                         [229 244]],\n",
    "                        [[508 532]\n",
    "                         [697 730]]]\n",
    "\n",
    "# Since python >= 3.5 the @ operator is supported (see PEP 465).\n",
    "# In TensorFlow, it simply calls the `tf.matmul()` function, so the\n",
    "# following lines are equivalent:\n",
    "d = a @ b @ [[10.], [11.]]\n",
    "d = tf.matmul(tf.matmul(a, b), [[10.], [11.]])"
   ]
  },
  {
   "cell_type": "code",
   "execution_count": 8,
   "metadata": {},
   "outputs": [
    {
     "name": "stdout",
     "output_type": "stream",
     "text": [
      "Tensor(\"Const_3:0\", shape=(7,), dtype=int32)\n"
     ]
    }
   ],
   "source": [
    "print(tf.constant([1, 2, 3, 4, 5, 6, 7]))"
   ]
  },
  {
   "cell_type": "code",
   "execution_count": 11,
   "metadata": {},
   "outputs": [
    {
     "name": "stdout",
     "output_type": "stream",
     "text": [
      "Tensor(\"Const_5:0\", shape=(3, 2), dtype=int32)\n"
     ]
    }
   ],
   "source": [
    "print(tf.constant([1, 2, 3, 4, 5, 6], shape=(3, 2)))"
   ]
  },
  {
   "cell_type": "code",
   "execution_count": 14,
   "metadata": {},
   "outputs": [
    {
     "name": "stdout",
     "output_type": "stream",
     "text": [
      "Tensor(\"zeros_1:0\", shape=(3, 2), dtype=float32)\n"
     ]
    }
   ],
   "source": [
    "print(tf.zeros((3,2)))"
   ]
  },
  {
   "cell_type": "code",
   "execution_count": 17,
   "metadata": {
    "collapsed": true
   },
   "outputs": [],
   "source": [
    "y = tf.placeholder(tf.float32, shape=[None, 1024]) #all knonw"
   ]
  },
  {
   "cell_type": "code",
   "execution_count": 18,
   "metadata": {},
   "outputs": [
    {
     "name": "stdout",
     "output_type": "stream",
     "text": [
      "Tensor(\"Placeholder_1:0\", shape=(?, 1024), dtype=float32)\n"
     ]
    }
   ],
   "source": [
    "print(y)"
   ]
  },
  {
   "cell_type": "code",
   "execution_count": 23,
   "metadata": {
    "collapsed": true
   },
   "outputs": [],
   "source": [
    "c = tf.constant([[1, 2], [3, 4], [5, 6]])\n",
    "shuff = tf.random_shuffle(c)"
   ]
  },
  {
   "cell_type": "code",
   "execution_count": 25,
   "metadata": {},
   "outputs": [
    {
     "name": "stdout",
     "output_type": "stream",
     "text": [
      "[[3 4]\n",
      " [5 6]\n",
      " [1 2]]\n"
     ]
    }
   ],
   "source": [
    "sess = tf.Session()\n",
    "print(sess.run(shuff))"
   ]
  },
  {
   "cell_type": "code",
   "execution_count": 35,
   "metadata": {},
   "outputs": [],
   "source": [
    "mymat = tf.Variable([[7],[3]], tf.int16)"
   ]
  },
  {
   "cell_type": "code",
   "execution_count": 36,
   "metadata": {},
   "outputs": [
    {
     "name": "stdout",
     "output_type": "stream",
     "text": [
      "<tf.Variable 'Variable_2:0' shape=(2, 1) dtype=int32_ref>\n"
     ]
    }
   ],
   "source": [
    "print(mymat)"
   ]
  },
  {
   "cell_type": "code",
   "execution_count": null,
   "metadata": {
    "collapsed": true
   },
   "outputs": [],
   "source": []
  }
 ],
 "metadata": {
  "kernelspec": {
   "display_name": "Python 2",
   "language": "python",
   "name": "python2"
  },
  "language_info": {
   "codemirror_mode": {
    "name": "ipython",
    "version": 2
   },
   "file_extension": ".py",
   "mimetype": "text/x-python",
   "name": "python",
   "nbconvert_exporter": "python",
   "pygments_lexer": "ipython2",
   "version": "2.7.12"
  }
 },
 "nbformat": 4,
 "nbformat_minor": 2
}
