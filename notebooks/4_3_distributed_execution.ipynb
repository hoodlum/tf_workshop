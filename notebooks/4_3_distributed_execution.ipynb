{
 "cells": [
  {
   "cell_type": "code",
   "execution_count": 6,
   "metadata": {
    "collapsed": true
   },
   "outputs": [],
   "source": [
    "# Placeholders\n",
    "#----------------------------------\n",
    "#\n",
    "# This function introduces how to \n",
    "# use placeholders in Tensorflow\n",
    "\n",
    "import numpy as np\n",
    "import tensorflow as tf\n",
    "from tensorflow.python.framework import ops\n",
    "ops.reset_default_graph()\n"
   ]
  },
  {
   "cell_type": "code",
   "execution_count": 12,
   "metadata": {},
   "outputs": [
    {
     "name": "stdout",
     "output_type": "stream",
     "text": [
      "[[ 91.]]\n"
     ]
    }
   ],
   "source": [
    "# Creates a graph.\n",
    "\n",
    "a = tf.constant([1.0, 2.0, 3.0, 4.0, 5.0, 6.0], shape=[1, 6], name='a')\n",
    "b = tf.constant([1.0, 2.0, 3.0, 4.0, 5.0, 6.0], shape=[6, 1], name='b')\n",
    "c = tf.matmul(a, b)\n",
    "\n",
    "# Creates a session with log_device_placement set to True.\n",
    "sess = tf.Session(config=tf.ConfigProto(log_device_placement=True))\n",
    "# Runs the op.\n",
    "print sess.run(c) "
   ]
  },
  {
   "cell_type": "markdown",
   "metadata": {},
   "source": [
    "MatMul_5: (MatMul)/job:localhost/replica:0/task:0/cpu:0\n",
    "MatMul_4: (MatMul)/job:localhost/replica:0/task:0/cpu:0\n",
    "MatMul_3: (MatMul)/job:localhost/replica:0/task:0/cpu:0\n",
    "MatMul_2: (MatMul)/job:localhost/replica:0/task:0/cpu:0\n",
    "b_5: (Const)/job:localhost/replica:0/task:0/cpu:0\n",
    "a_5: (Const)/job:localhost/replica:0/task:0/cpu:0\n",
    "b_4: (Const)/job:localhost/replica:0/task:0/cpu:0\n",
    "a_4: (Const)/job:localhost/replica:0/task:0/cpu:0\n",
    "b_3: (Const)/job:localhost/replica:0/task:0/cpu:0\n",
    "a_3: (Const)/job:localhost/replica:0/task:0/cpu:0\n",
    "b_2: (Const)/job:localhost/replica:0/task:0/cpu:0\n",
    "a_2: (Const)/job:localhost/replica:0/task:0/cpu:0\n",
    "b_1: (Const)/job:localhost/replica:0/task:0/cpu:0\n",
    "a_1: (Const)/job:localhost/replica:0/task:0/cpu:0\n",
    "b: (Const)/job:localhost/replica:0/task:0/cpu:0\n",
    "a: (Const)/job:localhost/replica:0/task:0/cpu:0"
   ]
  },
  {
   "cell_type": "code",
   "execution_count": null,
   "metadata": {
    "collapsed": true
   },
   "outputs": [],
   "source": [
    "TODO: variables"
   ]
  }
 ],
 "metadata": {
  "kernelspec": {
   "display_name": "Python 2",
   "language": "python",
   "name": "python2"
  },
  "language_info": {
   "codemirror_mode": {
    "name": "ipython",
    "version": 2
   },
   "file_extension": ".py",
   "mimetype": "text/x-python",
   "name": "python",
   "nbconvert_exporter": "python",
   "pygments_lexer": "ipython2",
   "version": "2.7.12"
  }
 },
 "nbformat": 4,
 "nbformat_minor": 2
}
