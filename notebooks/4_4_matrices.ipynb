{
 "cells": [
  {
   "cell_type": "code",
   "execution_count": null,
   "metadata": {
    "collapsed": true
   },
   "outputs": [],
   "source": [
    "# Matrices and Matrix Operations\n",
    "#----------------------------------\n",
    "#\n",
    "# This function introduces various ways to create\n",
    "# matrices and how to use them in Tensorflow\n",
    "\n",
    "import numpy as np\n",
    "import tensorflow as tf\n",
    "from tensorflow.python.framework import ops\n",
    "ops.reset_default_graph()\n",
    "\n",
    "# Declaring matrices\n",
    "sess = tf.Session()\n",
    "\n",
    "# Declaring matrices\n",
    "\n",
    "# Identity matrix\n",
    "identity_matrix = tf.diag([1.0,1.0,1.0])\n",
    "print(sess.run(identity_matrix))\n",
    "\n",
    "# 2x3 random norm matrix\n",
    "A = tf.truncated_normal([2,3])\n",
    "print(sess.run(A))\n",
    "\n",
    "# 2x3 constant matrix\n",
    "B = tf.fill([2,3], 5.0)\n",
    "print(sess.run(B))\n",
    "\n",
    "# 3x2 random uniform matrix\n",
    "C = tf.random_uniform([3,2])\n",
    "print(sess.run(C))\n",
    "print(sess.run(C)) # Note that we are reinitializing, hence the new random variabels\n",
    "\n",
    "# Create matrix from np array\n",
    "D = tf.convert_to_tensor(np.array([[1., 2., 3.], [-3., -7., -1.], [0., 5., -2.]]))\n",
    "print(sess.run(D))\n",
    "\n",
    "# Matrix addition/subtraction\n",
    "print(sess.run(A+B))\n",
    "print(sess.run(B-B))\n",
    "\n",
    "# Matrix Multiplication\n",
    "print(sess.run(tf.matmul(B, identity_matrix)))\n",
    "\n",
    "# Matrix Transpose\n",
    "print(sess.run(tf.transpose(C))) # Again, new random variables\n",
    "\n",
    "# Matrix Determinant\n",
    "print(sess.run(tf.matrix_determinant(D)))\n",
    "\n",
    "# Matrix Inverse\n",
    "print(sess.run(tf.matrix_inverse(D)))\n",
    "\n",
    "# Cholesky Decomposition\n",
    "print(sess.run(tf.cholesky(identity_matrix)))\n",
    "\n",
    "# Eigenvalues and Eigenvectors\n",
    "print(sess.run(tf.self_adjoint_eig(D)))"
   ]
  }
 ],
 "metadata": {
  "kernelspec": {
   "display_name": "Python 2",
   "language": "python",
   "name": "python2"
  },
  "language_info": {
   "codemirror_mode": {
    "name": "ipython",
    "version": 2
   },
   "file_extension": ".py",
   "mimetype": "text/x-python",
   "name": "python",
   "nbconvert_exporter": "python",
   "pygments_lexer": "ipython2",
   "version": "2.7.12"
  }
 },
 "nbformat": 4,
 "nbformat_minor": 2
}
