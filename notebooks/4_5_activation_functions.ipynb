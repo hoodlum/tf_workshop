{
 "cells": [
  {
   "cell_type": "code",
   "execution_count": null,
   "metadata": {
    "collapsed": true
   },
   "outputs": [],
   "source": [
    "# Activation Functions\n",
    "#----------------------------------\n",
    "#\n",
    "# This function introduces activation\n",
    "# functions in Tensorflow\n",
    "\n",
    "# Implementing Activation Functions\n",
    "import matplotlib.pyplot as plt\n",
    "import numpy as np\n",
    "import tensorflow as tf\n",
    "import tensorflow.nn as nn\n",
    "from tensorflow.python.framework import ops\n",
    "ops.reset_default_graph()\n",
    "\n",
    "# Open graph session\n",
    "sess = tf.Session()\n",
    "\n",
    "# X range\n",
    "x_vals = np.linspace(start=-10., stop=10., num=100)\n",
    "\n",
    "# ReLU activation\n",
    "print(sess.run(tf.nn.relu([-3., 3., 10.])))\n",
    "y_relu = sess.run(tf.nn.relu(x_vals))\n",
    "\n",
    "# ReLU-6 activation\n",
    "print(sess.run(tf.nn.relu6([-3., 3., 10.])))\n",
    "y_relu6 = sess.run(tf.nn.relu6(x_vals))\n",
    "\n",
    "# Sigmoid activation\n",
    "print(sess.run(tf.nn.sigmoid([-1., 0., 1.])))\n",
    "y_sigmoid = sess.run(tf.nn.sigmoid(x_vals))\n",
    "\n",
    "# Hyper Tangent activation\n",
    "print(sess.run(tf.nn.tanh([-1., 0., 1.])))\n",
    "y_tanh = sess.run(tf.nn.tanh(x_vals))\n",
    "\n",
    "# Softsign activation\n",
    "print(sess.run(tf.nn.softsign([-1., 0., 1.])))\n",
    "y_softsign = sess.run(tf.nn.softsign(x_vals))\n",
    "\n",
    "# Softplus activation\n",
    "print(sess.run(tf.nn.softplus([-1., 0., 1.])))\n",
    "y_softplus = sess.run(tf.nn.softplus(x_vals))\n",
    "\n",
    "# Exponential linear activation\n",
    "print(sess.run(tf.nn.elu([-1., 0., 1.])))\n",
    "y_elu = sess.run(tf.nn.elu(x_vals))\n",
    "\n",
    "# Plot the different functions\n",
    "plt.plot(x_vals, y_softplus, 'r--', label='Softplus', linewidth=2)\n",
    "plt.plot(x_vals, y_relu, 'b:', label='ReLU', linewidth=2)\n",
    "plt.plot(x_vals, y_relu6, 'g-.', label='ReLU6', linewidth=2)\n",
    "plt.plot(x_vals, y_elu, 'k-', label='ExpLU', linewidth=0.5)\n",
    "plt.ylim([-1.5,7])\n",
    "plt.legend(loc='top left')\n",
    "plt.show()\n",
    "\n",
    "plt.plot(x_vals, y_sigmoid, 'r--', label='Sigmoid', linewidth=2)\n",
    "plt.plot(x_vals, y_tanh, 'b:', label='Tanh', linewidth=2)\n",
    "plt.plot(x_vals, y_softsign, 'g-.', label='Softsign', linewidth=2)\n",
    "plt.ylim([-2,2])\n",
    "plt.legend(loc='top left')\n",
    "plt.show()\n"
   ]
  }
 ],
 "metadata": {
  "kernelspec": {
   "display_name": "Python 2",
   "language": "python",
   "name": "python2"
  },
  "language_info": {
   "codemirror_mode": {
    "name": "ipython",
    "version": 2
   },
   "file_extension": ".py",
   "mimetype": "text/x-python",
   "name": "python",
   "nbconvert_exporter": "python",
   "pygments_lexer": "ipython2",
   "version": "2.7.12"
  }
 },
 "nbformat": 4,
 "nbformat_minor": 2
}
