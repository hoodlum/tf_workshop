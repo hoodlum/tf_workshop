{
 "cells": [
  {
   "cell_type": "code",
   "execution_count": null,
   "metadata": {
    "collapsed": true
   },
   "outputs": [],
   "source": [
    "# Operations\n",
    "#----------------------------------\n",
    "#\n",
    "# This function introduces various operations\n",
    "# in Tensorflow\n",
    "\n",
    "# Declaring Operations\n",
    "import matplotlib.pyplot as plt\n",
    "import numpy as np\n",
    "import tensorflow as tf\n",
    "from tensorflow.python.framework import ops\n",
    "ops.reset_default_graph()\n",
    "\n",
    "# Open graph session\n",
    "sess = tf.Session()\n",
    "\n",
    "# div() vs truediv() vs floordiv()\n",
    "print(sess.run(tf.div(3,4)))\n",
    "print(sess.run(tf.truediv(3,4)))\n",
    "print(sess.run(tf.floordiv(3.0,4.0)))\n",
    "\n",
    "# Mod function\n",
    "print(sess.run(tf.mod(22.0,5.0)))\n",
    "\n",
    "# Cross Product\n",
    "print(sess.run(tf.cross([1.,0.,0.],[0.,1.,0.])))\n",
    "\n",
    "# Trig functions\n",
    "print(sess.run(tf.sin(3.1416)))\n",
    "print(sess.run(tf.cos(3.1416)))\n",
    "# Tangemt\n",
    "print(sess.run(tf.div(tf.sin(3.1416/4.), tf.cos(3.1416/4.))))\n",
    "\n",
    "# Custom operation\n",
    "test_nums = range(15)\n",
    "#from tensorflow.python.ops import math_ops\n",
    "#print(sess.run(tf.equal(test_num, 3)))\n",
    "def custom_polynomial(x_val):\n",
    "    # Return 3x^2 - x + 10\n",
    "    return(tf.sub(3 * tf.square(x_val), x_val) + 10)\n",
    "\n",
    "print(sess.run(custom_polynomial(11)))\n",
    "# What should we get with list comprehension\n",
    "expected_output = [3*x*x-x+10 for x in test_nums]\n",
    "print(expected_output)\n",
    "\n",
    "# Tensorflow custom function output\n",
    "for num in test_nums:\n",
    "    print(sess.run(custom_polynomial(num)))"
   ]
  }
 ],
 "metadata": {
  "kernelspec": {
   "display_name": "Python 2",
   "language": "python",
   "name": "python2"
  },
  "language_info": {
   "codemirror_mode": {
    "name": "ipython",
    "version": 2
   },
   "file_extension": ".py",
   "mimetype": "text/x-python",
   "name": "python",
   "nbconvert_exporter": "python",
   "pygments_lexer": "ipython2",
   "version": "2.7.12"
  }
 },
 "nbformat": 4,
 "nbformat_minor": 2
}
